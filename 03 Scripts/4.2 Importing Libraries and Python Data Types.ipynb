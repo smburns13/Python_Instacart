{
 "cells": [
  {
   "cell_type": "markdown",
   "id": "f399f613",
   "metadata": {},
   "source": [
    "# Notebook Contents\n",
    "01. Importing Libraries\n",
    "02. Working with Python Data Types"
   ]
  },
  {
   "cell_type": "markdown",
   "id": "c8a55dd7",
   "metadata": {},
   "source": [
    "# 01. Importing Libraries"
   ]
  },
  {
   "cell_type": "code",
   "execution_count": 1,
   "id": "6feac6da",
   "metadata": {},
   "outputs": [],
   "source": [
    "#Importing Libraries\n",
    "import pandas as pd\n",
    "import numpy as np\n",
    "import os"
   ]
  },
  {
   "cell_type": "markdown",
   "id": "24af1888",
   "metadata": {},
   "source": [
    "# 02. Working with Python Data Types"
   ]
  },
  {
   "cell_type": "markdown",
   "id": "490614ba",
   "metadata": {},
   "source": [
    "#Code 3 different ways of reaching a result of 100 by adding or subtracting numeric variables."
   ]
  },
  {
   "cell_type": "code",
   "execution_count": 4,
   "id": "f211e651",
   "metadata": {},
   "outputs": [],
   "source": [
    "x = 25"
   ]
  },
  {
   "cell_type": "code",
   "execution_count": 5,
   "id": "883528fc",
   "metadata": {},
   "outputs": [],
   "source": [
    "y = 50"
   ]
  },
  {
   "cell_type": "code",
   "execution_count": 6,
   "id": "a06af304",
   "metadata": {},
   "outputs": [
    {
     "data": {
      "text/plain": [
       "100"
      ]
     },
     "execution_count": 6,
     "metadata": {},
     "output_type": "execute_result"
    }
   ],
   "source": [
    "x + x + x + x "
   ]
  },
  {
   "cell_type": "code",
   "execution_count": 8,
   "id": "50a7c006",
   "metadata": {},
   "outputs": [
    {
     "data": {
      "text/plain": [
       "100"
      ]
     },
     "execution_count": 8,
     "metadata": {},
     "output_type": "execute_result"
    }
   ],
   "source": [
    "(y * 3) - x - x"
   ]
  },
  {
   "cell_type": "code",
   "execution_count": 9,
   "id": "b9e6348c",
   "metadata": {},
   "outputs": [
    {
     "data": {
      "text/plain": [
       "100"
      ]
     },
     "execution_count": 9,
     "metadata": {},
     "output_type": "execute_result"
    }
   ],
   "source": [
    "(x *2) + y"
   ]
  },
  {
   "cell_type": "markdown",
   "id": "821ebf41",
   "metadata": {},
   "source": [
    "#Code 2 floating-point variables and divide them by each other."
   ]
  },
  {
   "cell_type": "code",
   "execution_count": 10,
   "id": "fd26bc6d",
   "metadata": {},
   "outputs": [],
   "source": [
    "a = 3.45"
   ]
  },
  {
   "cell_type": "code",
   "execution_count": 11,
   "id": "75320018",
   "metadata": {},
   "outputs": [],
   "source": [
    "b = 12.34"
   ]
  },
  {
   "cell_type": "code",
   "execution_count": 12,
   "id": "59ea0d3c",
   "metadata": {},
   "outputs": [
    {
     "data": {
      "text/plain": [
       "3.576811594202898"
      ]
     },
     "execution_count": 12,
     "metadata": {},
     "output_type": "execute_result"
    }
   ],
   "source": [
    "b / a"
   ]
  },
  {
   "cell_type": "markdown",
   "id": "4dafb23b",
   "metadata": {},
   "source": [
    "#Construct a short word made of separate strings (you’ll need to concatenate some strings!)."
   ]
  },
  {
   "cell_type": "code",
   "execution_count": 13,
   "id": "24b2e058",
   "metadata": {},
   "outputs": [],
   "source": [
    "c = 'pyt'"
   ]
  },
  {
   "cell_type": "code",
   "execution_count": 14,
   "id": "98b5136b",
   "metadata": {},
   "outputs": [],
   "source": [
    "d = 'hon'"
   ]
  },
  {
   "cell_type": "code",
   "execution_count": 15,
   "id": "312ef0d0",
   "metadata": {},
   "outputs": [
    {
     "data": {
      "text/plain": [
       "'python'"
      ]
     },
     "execution_count": 15,
     "metadata": {},
     "output_type": "execute_result"
    }
   ],
   "source": [
    "c + d"
   ]
  },
  {
   "cell_type": "markdown",
   "id": "10d734b3",
   "metadata": {},
   "source": [
    "#Construct 2 short sentences made of separate strings."
   ]
  },
  {
   "cell_type": "code",
   "execution_count": 16,
   "id": "02cd917f",
   "metadata": {},
   "outputs": [],
   "source": [
    "e = 'Hello, '"
   ]
  },
  {
   "cell_type": "code",
   "execution_count": 17,
   "id": "9e79b890",
   "metadata": {},
   "outputs": [],
   "source": [
    "f = 'everyone!'"
   ]
  },
  {
   "cell_type": "code",
   "execution_count": 18,
   "id": "e1d857e4",
   "metadata": {},
   "outputs": [],
   "source": [
    "g = 'Goodbye, '"
   ]
  },
  {
   "cell_type": "code",
   "execution_count": 19,
   "id": "342900c3",
   "metadata": {},
   "outputs": [
    {
     "data": {
      "text/plain": [
       "'Hello, everyone!'"
      ]
     },
     "execution_count": 19,
     "metadata": {},
     "output_type": "execute_result"
    }
   ],
   "source": [
    "e + f"
   ]
  },
  {
   "cell_type": "code",
   "execution_count": 20,
   "id": "0d317331",
   "metadata": {},
   "outputs": [
    {
     "data": {
      "text/plain": [
       "'Goodbye, everyone!'"
      ]
     },
     "execution_count": 20,
     "metadata": {},
     "output_type": "execute_result"
    }
   ],
   "source": [
    "g + f"
   ]
  },
  {
   "cell_type": "markdown",
   "id": "ce170364",
   "metadata": {},
   "source": [
    "#At the bottom of your file, include a command that makes a string appear 100 times."
   ]
  },
  {
   "cell_type": "code",
   "execution_count": 21,
   "id": "75c9ee9a",
   "metadata": {},
   "outputs": [
    {
     "data": {
      "text/plain": [
       "'pythonpythonpythonpythonpythonpythonpythonpythonpythonpythonpythonpythonpythonpythonpythonpythonpythonpythonpythonpythonpythonpythonpythonpythonpythonpythonpythonpythonpythonpythonpythonpythonpythonpythonpythonpythonpythonpythonpythonpythonpythonpythonpythonpythonpythonpythonpythonpythonpythonpythonpythonpythonpythonpythonpythonpythonpythonpythonpythonpythonpythonpythonpythonpythonpythonpythonpythonpythonpythonpythonpythonpythonpythonpythonpythonpythonpythonpythonpythonpythonpythonpythonpythonpythonpythonpythonpythonpythonpythonpythonpythonpythonpythonpythonpythonpythonpythonpythonpythonpython'"
      ]
     },
     "execution_count": 21,
     "metadata": {},
     "output_type": "execute_result"
    }
   ],
   "source": [
    "(c + d)*100"
   ]
  },
  {
   "cell_type": "code",
   "execution_count": null,
   "id": "abb08d2d",
   "metadata": {},
   "outputs": [],
   "source": []
  }
 ],
 "metadata": {
  "kernelspec": {
   "display_name": "Python 3 (ipykernel)",
   "language": "python",
   "name": "python3"
  },
  "language_info": {
   "codemirror_mode": {
    "name": "ipython",
    "version": 3
   },
   "file_extension": ".py",
   "mimetype": "text/x-python",
   "name": "python",
   "nbconvert_exporter": "python",
   "pygments_lexer": "ipython3",
   "version": "3.9.13"
  }
 },
 "nbformat": 4,
 "nbformat_minor": 5
}
